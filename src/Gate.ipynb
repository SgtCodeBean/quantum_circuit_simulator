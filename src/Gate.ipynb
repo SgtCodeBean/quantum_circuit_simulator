{
 "cells": [
  {
   "metadata": {},
   "cell_type": "markdown",
   "source": "# Import libraries",
   "id": "6bb2622cb8e06968"
  },
  {
   "cell_type": "code",
   "id": "b2f3d8c1606fc3ed",
   "metadata": {
    "ExecuteTime": {
     "end_time": "2025-10-17T17:51:52.789615Z",
     "start_time": "2025-10-17T17:51:52.785398Z"
    }
   },
   "source": [
    "import numpy as np\n",
    "from src.gate import Gate\n",
    "from src.utils.quantum_operations import apply_qubit"
   ],
   "outputs": [],
   "execution_count": 4
  },
  {
   "metadata": {},
   "cell_type": "markdown",
   "source": "# Defined Hadamard Gate and tested",
   "id": "50e9be37adf041d8"
  },
  {
   "metadata": {},
   "cell_type": "code",
   "source": [
    "H = Gate(\"Hadamard\", (1/np.sqrt(2)) * np.array([[1, 1], [1,-1]]))\n",
    "print(H)"
   ],
   "id": "c41b5741380c24ef",
   "outputs": [],
   "execution_count": null
  },
  {
   "metadata": {},
   "cell_type": "markdown",
   "source": "## Apply Hadamard Gate to single qubit state |0>",
   "id": "c8668c830380c1bb"
  },
  {
   "metadata": {
    "ExecuteTime": {
     "end_time": "2025-10-17T17:51:52.802701Z",
     "start_time": "2025-10-17T17:51:52.797084Z"
    }
   },
   "cell_type": "code",
   "outputs": [
    {
     "name": "stdout",
     "output_type": "stream",
     "text": [
      "Hadamard Gate (1-qubit):\n",
      "[[ 0.70710678+0.j  0.70710678+0.j]\n",
      " [ 0.70710678+0.j -0.70710678+0.j]]\n",
      "Result:\n",
      "[0.70710678+0.j 0.70710678+0.j]\n"
     ]
    }
   ],
   "execution_count": 5,
   "source": [
    "test_state = np.array([1,0], dtype=complex)\n",
    "res = apply_qubit(test_state, H, targets=0, n=1)\n",
    "print(f\"Result:\\n{res}\")"
   ],
   "id": "056d2ece-0332-4749-a508-7f5332cf03f1"
  },
  {
   "metadata": {},
   "cell_type": "markdown",
   "source": "# Defined Toffoli Gate",
   "id": "274cdd4c1b09e7a4"
  },
  {
   "metadata": {
    "ExecuteTime": {
     "end_time": "2025-10-17T17:51:52.863109Z",
     "start_time": "2025-10-17T17:51:52.860534Z"
    }
   },
   "cell_type": "code",
   "source": [
    "toffoli_matrix = np.eye(8, dtype=complex)\n",
    "toffoli_matrix[6, 6] = 0\n",
    "toffoli_matrix[7, 7] = 0\n",
    "toffoli_matrix[6, 7] = 1\n",
    "toffoli_matrix[7, 6] = 1\n",
    "toffoli = Gate(\"Toffoli\", toffoli_matrix)\n",
    "\n",
    "print(toffoli)"
   ],
   "id": "80b7f778199e8cd8",
   "outputs": [
    {
     "name": "stdout",
     "output_type": "stream",
     "text": [
      "Toffoli Gate (3-qubit):\n",
      "[[1.+0.j 0.+0.j 0.+0.j 0.+0.j 0.+0.j 0.+0.j 0.+0.j 0.+0.j]\n",
      " [0.+0.j 1.+0.j 0.+0.j 0.+0.j 0.+0.j 0.+0.j 0.+0.j 0.+0.j]\n",
      " [0.+0.j 0.+0.j 1.+0.j 0.+0.j 0.+0.j 0.+0.j 0.+0.j 0.+0.j]\n",
      " [0.+0.j 0.+0.j 0.+0.j 1.+0.j 0.+0.j 0.+0.j 0.+0.j 0.+0.j]\n",
      " [0.+0.j 0.+0.j 0.+0.j 0.+0.j 1.+0.j 0.+0.j 0.+0.j 0.+0.j]\n",
      " [0.+0.j 0.+0.j 0.+0.j 0.+0.j 0.+0.j 1.+0.j 0.+0.j 0.+0.j]\n",
      " [0.+0.j 0.+0.j 0.+0.j 0.+0.j 0.+0.j 0.+0.j 0.+0.j 1.+0.j]\n",
      " [0.+0.j 0.+0.j 0.+0.j 0.+0.j 0.+0.j 0.+0.j 1.+0.j 0.+0.j]]\n"
     ]
    }
   ],
   "execution_count": 6
  },
  {
   "metadata": {},
   "cell_type": "markdown",
   "source": "# Test Toffoli Gate on |1010> state in 4-qubit system",
   "id": "6fcf7aa4a00f370b"
  },
  {
   "metadata": {
    "ExecuteTime": {
     "end_time": "2025-10-17T17:51:52.877052Z",
     "start_time": "2025-10-17T17:51:52.873034Z"
    }
   },
   "cell_type": "code",
   "source": [
    "state = np.zeros(16, dtype=complex); state[0b1010] = 1\n",
    "out = apply_qubit(state, toffoli, targets=[3,2,1], n=4)\n",
    "\n",
    "print(f\"Result:\\n{out}\")"
   ],
   "id": "c94ec0e5d0c6872c",
   "outputs": [
    {
     "name": "stdout",
     "output_type": "stream",
     "text": [
      "Result:\n",
      "[0.+0.j 0.+0.j 0.+0.j 0.+0.j 0.+0.j 0.+0.j 0.+0.j 0.+0.j 0.+0.j 0.+0.j\n",
      " 1.+0.j 0.+0.j 0.+0.j 0.+0.j 0.+0.j 0.+0.j]\n"
     ]
    }
   ],
   "execution_count": 7
  }
 ],
 "metadata": {
  "kernelspec": {
   "display_name": "Python 3 (ipykernel)",
   "language": "python",
   "name": "python3"
  },
  "language_info": {
   "codemirror_mode": {
    "name": "ipython",
    "version": 3
   },
   "file_extension": ".py",
   "mimetype": "text/x-python",
   "name": "python",
   "nbconvert_exporter": "python",
   "pygments_lexer": "ipython3",
   "version": "3.9.21"
  }
 },
 "nbformat": 4,
 "nbformat_minor": 5
}
