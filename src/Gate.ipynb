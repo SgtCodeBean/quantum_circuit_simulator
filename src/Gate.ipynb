{
 "cells": [
  {
   "metadata": {},
   "cell_type": "markdown",
   "source": "# Import libraries",
   "id": "6bb2622cb8e06968"
  },
  {
   "cell_type": "code",
   "id": "b2f3d8c1606fc3ed",
   "metadata": {
    "ExecuteTime": {
     "end_time": "2025-10-19T09:07:36.878674Z",
     "start_time": "2025-10-19T09:07:36.867569Z"
    }
   },
   "source": [
    "import numpy as np\n",
    "from utils.quantum_operations import apply_qubit\n",
    "from gates.registry import GateRegistry"
   ],
   "outputs": [],
   "execution_count": 2
  },
  {
   "metadata": {},
   "cell_type": "markdown",
   "source": "# Defined Hadamard Gate and tested",
   "id": "50e9be37adf041d8"
  },
  {
   "metadata": {
    "ExecuteTime": {
     "end_time": "2025-10-19T09:07:57.191706Z",
     "start_time": "2025-10-19T09:07:57.185361Z"
    }
   },
   "cell_type": "code",
   "source": [
    "gate_registry = GateRegistry()\n",
    "H = gate_registry.get('h')\n",
    "print(H)"
   ],
   "id": "c41b5741380c24ef",
   "outputs": [
    {
     "name": "stdout",
     "output_type": "stream",
     "text": [
      "h (1q) Gate:\n",
      "[[ 0.70710678+0.j  0.70710678+0.j]\n",
      " [ 0.70710678+0.j -0.70710678+0.j]]\n"
     ]
    }
   ],
   "execution_count": 3
  },
  {
   "metadata": {},
   "cell_type": "markdown",
   "source": "## Apply Hadamard Gate to single qubit state |0>",
   "id": "c8668c830380c1bb"
  },
  {
   "metadata": {
    "ExecuteTime": {
     "end_time": "2025-10-19T09:07:59.858487Z",
     "start_time": "2025-10-19T09:07:59.856238Z"
    }
   },
   "cell_type": "code",
   "source": [
    "test_state = np.array([1,0], dtype=complex)\n",
    "res = apply_qubit(test_state, H, targets=0, n=1)\n",
    "print(f\"Result:\\n{res}\")"
   ],
   "id": "056d2ece-0332-4749-a508-7f5332cf03f1",
   "outputs": [
    {
     "name": "stdout",
     "output_type": "stream",
     "text": [
      "Result:\n",
      "[0.70710678+0.j 0.70710678+0.j]\n"
     ]
    }
   ],
   "execution_count": 4
  },
  {
   "metadata": {},
   "cell_type": "markdown",
   "source": "# Defined Toffoli Gate",
   "id": "274cdd4c1b09e7a4"
  },
  {
   "metadata": {
    "ExecuteTime": {
     "end_time": "2025-10-19T09:08:08.082440Z",
     "start_time": "2025-10-19T09:08:08.073629Z"
    }
   },
   "cell_type": "code",
   "source": [
    "toffoli_matrix = np.eye(8, dtype=complex)\n",
    "toffoli_matrix[6, 6] = 0\n",
    "toffoli_matrix[7, 7] = 0\n",
    "toffoli_matrix[6, 7] = 1\n",
    "toffoli_matrix[7, 6] = 1\n",
    "toffoli = gate_registry.get('toffoli')\n",
    "\n",
    "print(toffoli)"
   ],
   "id": "80b7f778199e8cd8",
   "outputs": [
    {
     "name": "stdout",
     "output_type": "stream",
     "text": [
      "toffoli (3q) Gate:\n",
      "[[1.+0.j 0.+0.j 0.+0.j 0.+0.j 0.+0.j 0.+0.j 0.+0.j 0.+0.j]\n",
      " [0.+0.j 1.+0.j 0.+0.j 0.+0.j 0.+0.j 0.+0.j 0.+0.j 0.+0.j]\n",
      " [0.+0.j 0.+0.j 1.+0.j 0.+0.j 0.+0.j 0.+0.j 0.+0.j 0.+0.j]\n",
      " [0.+0.j 0.+0.j 0.+0.j 1.+0.j 0.+0.j 0.+0.j 0.+0.j 0.+0.j]\n",
      " [0.+0.j 0.+0.j 0.+0.j 0.+0.j 1.+0.j 0.+0.j 0.+0.j 0.+0.j]\n",
      " [0.+0.j 0.+0.j 0.+0.j 0.+0.j 0.+0.j 1.+0.j 0.+0.j 0.+0.j]\n",
      " [0.+0.j 0.+0.j 0.+0.j 0.+0.j 0.+0.j 0.+0.j 0.+0.j 1.+0.j]\n",
      " [0.+0.j 0.+0.j 0.+0.j 0.+0.j 0.+0.j 0.+0.j 1.+0.j 0.+0.j]]\n"
     ]
    }
   ],
   "execution_count": 5
  },
  {
   "metadata": {},
   "cell_type": "markdown",
   "source": "# Test Toffoli Gate on |1010> state in 4-qubit system",
   "id": "6fcf7aa4a00f370b"
  },
  {
   "metadata": {
    "ExecuteTime": {
     "end_time": "2025-10-19T09:08:10.220791Z",
     "start_time": "2025-10-19T09:08:10.216851Z"
    }
   },
   "cell_type": "code",
   "source": [
    "state = np.zeros(16, dtype=complex); state[0b1010] = 1\n",
    "out = apply_qubit(state, toffoli, targets=[3,2,1], n=4)\n",
    "\n",
    "print(f\"Result:\\n{out}\")"
   ],
   "id": "c94ec0e5d0c6872c",
   "outputs": [
    {
     "name": "stdout",
     "output_type": "stream",
     "text": [
      "Result:\n",
      "[0.+0.j 0.+0.j 0.+0.j 0.+0.j 0.+0.j 0.+0.j 0.+0.j 0.+0.j 0.+0.j 0.+0.j\n",
      " 1.+0.j 0.+0.j 0.+0.j 0.+0.j 0.+0.j 0.+0.j]\n"
     ]
    }
   ],
   "execution_count": 6
  },
  {
   "metadata": {},
   "cell_type": "markdown",
   "source": "# Test default constructor functions",
   "id": "3993bfd16f58cba1"
  },
  {
   "metadata": {
    "ExecuteTime": {
     "end_time": "2025-10-19T09:08:55.674246Z",
     "start_time": "2025-10-19T09:08:55.659202Z"
    }
   },
   "cell_type": "code",
   "source": [
    "gates = GateRegistry()\n",
    "print(\"Available gates in default registry:\")\n",
    "for gate_name in gates.list():\n",
    "    print(f\"- {gate_name}\")\n",
    "\n",
    "# Test Get\n",
    "H = gates.get(\"h\")\n",
    "print(H)\n",
    "\n",
    "# Test Remove\n",
    "gates.remove(\"h\")\n",
    "print(\"Available gates after removing 'h':\")\n",
    "for gate_name in gates.list():\n",
    "    print(f\"- {gate_name}\")"
   ],
   "id": "2fe4eb78d57beebc",
   "outputs": [
    {
     "name": "stdout",
     "output_type": "stream",
     "text": [
      "Available gates in default registry:\n",
      "- h\n",
      "- toffoli\n",
      "- x\n",
      "- y\n",
      "- z\n",
      "h (1q) Gate:\n",
      "[[ 0.70710678+0.j  0.70710678+0.j]\n",
      " [ 0.70710678+0.j -0.70710678+0.j]]\n",
      "Available gates after removing 'h':\n",
      "- toffoli\n",
      "- x\n",
      "- y\n",
      "- z\n"
     ]
    }
   ],
   "execution_count": 7
  }
 ],
 "metadata": {
  "kernelspec": {
   "display_name": "Python 3 (ipykernel)",
   "language": "python",
   "name": "python3"
  },
  "language_info": {
   "codemirror_mode": {
    "name": "ipython",
    "version": 3
   },
   "file_extension": ".py",
   "mimetype": "text/x-python",
   "name": "python",
   "nbconvert_exporter": "python",
   "pygments_lexer": "ipython3",
   "version": "3.9.21"
  }
 },
 "nbformat": 4,
 "nbformat_minor": 5
}
