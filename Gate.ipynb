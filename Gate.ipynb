{
 "cells": [
  {
   "cell_type": "code",
   "execution_count": 9,
   "id": "056d2ece-0332-4749-a508-7f5332cf03f1",
   "metadata": {},
   "outputs": [
    {
     "name": "stdout",
     "output_type": "stream",
     "text": [
      "Hadamard Gate: [[ 0.70710678+0.j  0.70710678+0.j]\n",
      " [ 0.70710678+0.j -0.70710678+0.j]]\n",
      "Result:\n",
      "[0.70710678+0.j 0.70710678+0.j]\n"
     ]
    }
   ],
   "source": [
    "import numpy as np\n",
    "\n",
    "class Gate():\n",
    "\n",
    "    # Constructor to set up Gate class\n",
    "    def __init__(self, name, matrix):\n",
    "        self.name = name\n",
    "        self.matrix = np.array(matrix, dtype=complex)\n",
    "        if self.matrix.shape != (2,2):\n",
    "            raise ValueError(\"Matrix has to be 2x2\")\n",
    "\n",
    "    def apply(self, state_vector):\n",
    "        state_vector = np.array(state_vector, dtype=complex)\n",
    "\n",
    "        if state_vector.shape != (2,2):\n",
    "            raise ValueError(\"State vector needs to be a 2x1 vector\")\n",
    "            \n",
    "        return self.matrix @ state_vector\n",
    "\n",
    "    def toString(self):\n",
    "        return f\"{self.name} Gate: {self.matrix}\"\n",
    "\n",
    "\n",
    "'''\n",
    "state - state vector\n",
    "gate - gate being applied to state vector\n",
    "q - index of the qubit\n",
    "n - number of qubits \n",
    "\n",
    "===============================================Explanation=========================================\n",
    "Instead of making a 2^n * 2^n state matrix, we will reshape the state matrix to a 2^n tensor vector. By doing this, each\n",
    "index in the state vector corresponds to one of the computational basis states. A gate acts on only one qubit, but the full\n",
    "state spans all n qubits. So we need to apply the gate matrix to the correct subspace while keeping other qubits unchanged.\n",
    "\n",
    "To apply the gate:\n",
    "1. move target axis to front, multiply, and then mvoe it back\n",
    "2. Apply the gate along the axis using tensordot\n",
    "3. move axes back to original order by undoing transpose\n",
    "4. flatten the tensor\n",
    "\n",
    "'''\n",
    "def apply_single_qubit(state, gate, q, n):\n",
    "    # Reshape to 2 x 2 x ... x 2 tensor\n",
    "    psi = state.reshape((2,)*n)\n",
    "\n",
    "    # Move target axis to front, multiply, move back\n",
    "    axes = list(range(n))\n",
    "    axes[0], axes[q] = axes[q], axes[0]\n",
    "    psi = np.transpose(psi, axes)\n",
    "\n",
    "    # Apply gate on the first axis\n",
    "    psi = np.tensordot(gate.matrix, psi, axes=([1],[0]))\n",
    "\n",
    "    # Undo transpose\n",
    "    inv_axes = np.argsort(axes)\n",
    "    psi = np.transpose(psi, inv_axes)\n",
    "\n",
    "    return psi.reshape(-1)\n",
    "\n",
    "H = Gate(\"Hadamard\", (1/np.sqrt(2)) * np.array([[1, 1], [1,-1]]))\n",
    "print(H.toString())\n",
    "\n",
    "# Test - Applies Hadamard Gate to |0>\n",
    "test_state = np.array([1,0], dtype=complex)\n",
    "res = apply_single_qubit(test_state, H, q=0, n=1)\n",
    "print(f\"Result:\\n{res}\")"
   ]
  },
  {
   "cell_type": "code",
   "execution_count": 11,
   "id": "bf73fb85-5c5f-4625-9fe2-70457b6e84b8",
   "metadata": {},
   "outputs": [
    {
     "name": "stdout",
     "output_type": "stream",
     "text": [
      "Note: you may need to restart the kernel to use updated packages.\n"
     ]
    }
   ],
   "source": [
    "pip freeze > requirements.txt"
   ]
  },
  {
   "cell_type": "code",
   "execution_count": null,
   "id": "6bfe495b-ba18-451d-834e-857cd916252c",
   "metadata": {},
   "outputs": [],
   "source": []
  }
 ],
 "metadata": {
  "kernelspec": {
   "display_name": "Python 3 (ipykernel)",
   "language": "python",
   "name": "python3"
  },
  "language_info": {
   "codemirror_mode": {
    "name": "ipython",
    "version": 3
   },
   "file_extension": ".py",
   "mimetype": "text/x-python",
   "name": "python",
   "nbconvert_exporter": "python",
   "pygments_lexer": "ipython3",
   "version": "3.9.21"
  }
 },
 "nbformat": 4,
 "nbformat_minor": 5
}
